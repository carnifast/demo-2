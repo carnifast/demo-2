{
 "cells": [
  {
   "cell_type": "markdown",
   "metadata": {},
   "source": [
    "# **Demo 2** \n",
    "\n",
    "Dataset: [Men's Tennis Grand Slam Champions](https://www.kaggle.com/datasets/wonduk/mens-tennis-grand-slam-winner-dataset/data)\n",
    "\n",
    "Selection rationale: I chose this dataset because I am interested in tennis and want to learn more about the different Grand Slam Champions throughout the years."
   ]
  },
  {
   "cell_type": "markdown",
   "metadata": {},
   "source": [
    "---"
   ]
  },
  {
   "cell_type": "markdown",
   "metadata": {},
   "source": [
    "### Analysis Objectives & Plan \n",
    "\n",
    "1. Proportion of left-handed Grand Slam winners over the years. \n",
    "- Step 1 (cumulative steps should have ***AT LEAST 2*** new things/external resources)\n",
    "- Step 2 \n",
    "- Step 3\n",
    "2. World ranking during Grand Slam win.\n",
    "- Step 1 \n",
    "- Step...\n",
    "3. Novak Djokovic total Grand Slam earnings. \n",
    "- Step 1 \n",
    "- Step ..."
   ]
  },
  {
   "cell_type": "markdown",
   "metadata": {},
   "source": [
    "---"
   ]
  },
  {
   "cell_type": "markdown",
   "metadata": {},
   "source": [
    "### Import Libraries "
   ]
  },
  {
   "cell_type": "code",
   "execution_count": 19,
   "metadata": {},
   "outputs": [],
   "source": [
    "# Import necessary libraries \n",
    "import pandas as pd"
   ]
  },
  {
   "cell_type": "markdown",
   "metadata": {},
   "source": [
    "### Import and Explore Data \n",
    "\n",
    "- Import dataset and assign to a variable named `df`\n",
    "- Print/output the following (as pythonically as possible) \n",
    "    - Dataframe's shape \n",
    "    - Column names \n",
    "    - First 5 rows "
   ]
  },
  {
   "cell_type": "code",
   "execution_count": 31,
   "metadata": {},
   "outputs": [],
   "source": [
    "# Import data from csv file \n",
    "df = pd.read_csv('Mens_Tennis_Grand_Slam_Winner.csv')"
   ]
  },
  {
   "cell_type": "code",
   "execution_count": 32,
   "metadata": {},
   "outputs": [
    {
     "data": {
      "text/plain": [
       "(292, 10)"
      ]
     },
     "execution_count": 32,
     "metadata": {},
     "output_type": "execute_result"
    }
   ],
   "source": [
    "# df shape \n",
    "df.shape"
   ]
  },
  {
   "cell_type": "code",
   "execution_count": 33,
   "metadata": {},
   "outputs": [
    {
     "data": {
      "text/plain": [
       "Index(['YEAR', 'TOURNAMENT', 'WINNER', 'RUNNER-UP', 'WINNER_NATIONALITY',\n",
       "       'WINNER_ATP_RANKING', 'RUNNER-UP_ATP_RANKING',\n",
       "       'WINNER_LEFT_OR_RIGHT_HANDED', 'TOURNAMENT_SURFACE', 'WINNER_PRIZE'],\n",
       "      dtype='object')"
      ]
     },
     "execution_count": 33,
     "metadata": {},
     "output_type": "execute_result"
    }
   ],
   "source": [
    "# df columns \n",
    "df.columns"
   ]
  },
  {
   "cell_type": "code",
   "execution_count": 34,
   "metadata": {},
   "outputs": [
    {
     "data": {
      "text/html": [
       "<div>\n",
       "<style scoped>\n",
       "    .dataframe tbody tr th:only-of-type {\n",
       "        vertical-align: middle;\n",
       "    }\n",
       "\n",
       "    .dataframe tbody tr th {\n",
       "        vertical-align: top;\n",
       "    }\n",
       "\n",
       "    .dataframe thead th {\n",
       "        text-align: right;\n",
       "    }\n",
       "</style>\n",
       "<table border=\"1\" class=\"dataframe\">\n",
       "  <thead>\n",
       "    <tr style=\"text-align: right;\">\n",
       "      <th></th>\n",
       "      <th>YEAR</th>\n",
       "      <th>TOURNAMENT</th>\n",
       "      <th>WINNER</th>\n",
       "      <th>RUNNER-UP</th>\n",
       "      <th>WINNER_NATIONALITY</th>\n",
       "      <th>WINNER_ATP_RANKING</th>\n",
       "      <th>RUNNER-UP_ATP_RANKING</th>\n",
       "      <th>WINNER_LEFT_OR_RIGHT_HANDED</th>\n",
       "      <th>TOURNAMENT_SURFACE</th>\n",
       "      <th>WINNER_PRIZE</th>\n",
       "    </tr>\n",
       "  </thead>\n",
       "  <tbody>\n",
       "    <tr>\n",
       "      <th>0</th>\n",
       "      <td>2023</td>\n",
       "      <td>Australian Open</td>\n",
       "      <td>Novak Djokovic</td>\n",
       "      <td>Stefanos Tsitsipas</td>\n",
       "      <td>Serbian</td>\n",
       "      <td>1.0</td>\n",
       "      <td>3.0</td>\n",
       "      <td>right</td>\n",
       "      <td>Plexicushion Prestige</td>\n",
       "      <td>2050000.0</td>\n",
       "    </tr>\n",
       "    <tr>\n",
       "      <th>1</th>\n",
       "      <td>2022</td>\n",
       "      <td>U.S. Open</td>\n",
       "      <td>Carlos Alcaraz</td>\n",
       "      <td>Casper Rudd</td>\n",
       "      <td>Spanish</td>\n",
       "      <td>2.0</td>\n",
       "      <td>5.0</td>\n",
       "      <td>right</td>\n",
       "      <td>DecoTurf - outdoors</td>\n",
       "      <td>2600000.0</td>\n",
       "    </tr>\n",
       "    <tr>\n",
       "      <th>2</th>\n",
       "      <td>2022</td>\n",
       "      <td>Wimbledon</td>\n",
       "      <td>Novak Djokovic</td>\n",
       "      <td>Nick Kyrgios</td>\n",
       "      <td>Serbian</td>\n",
       "      <td>NaN</td>\n",
       "      <td>25.0</td>\n",
       "      <td>right</td>\n",
       "      <td>Grass / Outdoor</td>\n",
       "      <td>2507460.0</td>\n",
       "    </tr>\n",
       "    <tr>\n",
       "      <th>3</th>\n",
       "      <td>2022</td>\n",
       "      <td>French Open</td>\n",
       "      <td>Rafael Nadal</td>\n",
       "      <td>Casper Rudd</td>\n",
       "      <td>Spanish</td>\n",
       "      <td>5.0</td>\n",
       "      <td>8.0</td>\n",
       "      <td>left</td>\n",
       "      <td>Clay</td>\n",
       "      <td>1870000.0</td>\n",
       "    </tr>\n",
       "    <tr>\n",
       "      <th>4</th>\n",
       "      <td>2022</td>\n",
       "      <td>Australian Open</td>\n",
       "      <td>Rafael Nadal</td>\n",
       "      <td>Daniil Medvedev</td>\n",
       "      <td>Spanish</td>\n",
       "      <td>5.0</td>\n",
       "      <td>2.0</td>\n",
       "      <td>left</td>\n",
       "      <td>Plexicushion Prestige</td>\n",
       "      <td>4400000.0</td>\n",
       "    </tr>\n",
       "  </tbody>\n",
       "</table>\n",
       "</div>"
      ],
      "text/plain": [
       "   YEAR       TOURNAMENT          WINNER           RUNNER-UP  \\\n",
       "0  2023  Australian Open  Novak Djokovic  Stefanos Tsitsipas   \n",
       "1  2022        U.S. Open  Carlos Alcaraz         Casper Rudd   \n",
       "2  2022        Wimbledon  Novak Djokovic        Nick Kyrgios   \n",
       "3  2022      French Open    Rafael Nadal         Casper Rudd   \n",
       "4  2022  Australian Open    Rafael Nadal     Daniil Medvedev   \n",
       "\n",
       "  WINNER_NATIONALITY  WINNER_ATP_RANKING  RUNNER-UP_ATP_RANKING  \\\n",
       "0            Serbian                 1.0                    3.0   \n",
       "1            Spanish                 2.0                    5.0   \n",
       "2            Serbian                 NaN                   25.0   \n",
       "3            Spanish                 5.0                    8.0   \n",
       "4            Spanish                 5.0                    2.0   \n",
       "\n",
       "  WINNER_LEFT_OR_RIGHT_HANDED     TOURNAMENT_SURFACE  WINNER_PRIZE  \n",
       "0                       right  Plexicushion Prestige     2050000.0  \n",
       "1                       right    DecoTurf - outdoors     2600000.0  \n",
       "2                       right        Grass / Outdoor     2507460.0  \n",
       "3                        left                   Clay     1870000.0  \n",
       "4                        left  Plexicushion Prestige     4400000.0  "
      ]
     },
     "execution_count": 34,
     "metadata": {},
     "output_type": "execute_result"
    }
   ],
   "source": [
    "# output first 5 rows \n",
    "df.head()"
   ]
  },
  {
   "cell_type": "markdown",
   "metadata": {},
   "source": [
    "---"
   ]
  },
  {
   "cell_type": "markdown",
   "metadata": {},
   "source": [
    "##### Objective 1 (...type the name you gave it above, rather than \"objective 1\") "
   ]
  },
  {
   "cell_type": "code",
   "execution_count": 9,
   "metadata": {},
   "outputs": [],
   "source": [
    "# Step 1"
   ]
  },
  {
   "cell_type": "code",
   "execution_count": 10,
   "metadata": {},
   "outputs": [],
   "source": [
    "# Step 2"
   ]
  },
  {
   "cell_type": "code",
   "execution_count": 11,
   "metadata": {},
   "outputs": [],
   "source": [
    "# Step 3"
   ]
  },
  {
   "cell_type": "markdown",
   "metadata": {},
   "source": [
    "##### Objective 2"
   ]
  },
  {
   "cell_type": "code",
   "execution_count": 12,
   "metadata": {},
   "outputs": [],
   "source": [
    "# Step 1"
   ]
  },
  {
   "cell_type": "code",
   "execution_count": 13,
   "metadata": {},
   "outputs": [],
   "source": [
    "# Step 2"
   ]
  },
  {
   "cell_type": "code",
   "execution_count": 14,
   "metadata": {},
   "outputs": [],
   "source": [
    "# Step 3"
   ]
  },
  {
   "cell_type": "markdown",
   "metadata": {},
   "source": [
    "##### Objective 3"
   ]
  },
  {
   "cell_type": "code",
   "execution_count": 15,
   "metadata": {},
   "outputs": [],
   "source": [
    "# Step 1 "
   ]
  },
  {
   "cell_type": "code",
   "execution_count": 16,
   "metadata": {},
   "outputs": [],
   "source": [
    "# Step 2"
   ]
  },
  {
   "cell_type": "code",
   "execution_count": 17,
   "metadata": {},
   "outputs": [],
   "source": [
    "# Step 3"
   ]
  },
  {
   "cell_type": "markdown",
   "metadata": {},
   "source": [
    "---\n"
   ]
  },
  {
   "cell_type": "markdown",
   "metadata": {},
   "source": [
    "### Conclusions "
   ]
  },
  {
   "cell_type": "markdown",
   "metadata": {},
   "source": [
    "AKA What do the numbers mean (can reflect demo I) "
   ]
  }
 ],
 "metadata": {
  "kernelspec": {
   "display_name": "base",
   "language": "python",
   "name": "python3"
  },
  "language_info": {
   "codemirror_mode": {
    "name": "ipython",
    "version": 3
   },
   "file_extension": ".py",
   "mimetype": "text/x-python",
   "name": "python",
   "nbconvert_exporter": "python",
   "pygments_lexer": "ipython3",
   "version": "3.9.7"
  },
  "orig_nbformat": 4
 },
 "nbformat": 4,
 "nbformat_minor": 2
}
