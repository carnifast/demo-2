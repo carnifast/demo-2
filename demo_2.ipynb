{
 "cells": [
  {
   "cell_type": "markdown",
   "metadata": {},
   "source": [
    "# **Demo 2** \n",
    "\n",
    "Dataset: [Men's Tennis Grand Slam Champions](https://www.kaggle.com/datasets/wonduk/mens-tennis-grand-slam-winner-dataset/data)\n",
    "\n",
    "Selection rationale: I chose this dataset because I am interested in tennis and want to learn more about the different Grand Slam Champions throughout the years."
   ]
  },
  {
   "cell_type": "markdown",
   "metadata": {},
   "source": [
    "---"
   ]
  },
  {
   "cell_type": "markdown",
   "metadata": {},
   "source": [
    "### Analysis Objectives & Plan \n",
    "\n",
    "1. Proportion of left-handed Grand Slam winners over the years. \n",
    "- Count number of left-handed, right-handed, and total number of Grand Slam winners.\n",
    "- Calculate proportion of left vs right-handed winners. \n",
    "- Visualize data by plotting a pie chart. \n",
    "2. World ranking during Grand Slam win & likelihood of world #1 to win if they made the final.\n",
    "- Count number of Grand Slam Winners who had a world ranking of #1. Do the same for each winning world ranking available. \n",
    "- Visualize this data using a bar plot. \n",
    "- Count number of runner-ups with rank #1 and total number of #1 present in finals.\n",
    "- Calculate the probability that a #1 ranked player will win the Grand Slam if they make it to the finals.\n",
    "3. Novak Djokovic total Grand Slam earnings. \n",
    "- Identify every Grand Slam that Djokovic has won (*hint*: there's a lot!) and store this in a new dataframe.\n",
    "- Of this dataframe, retain only the columns containing the tournament and the price money won.\n",
    "- For each Grand Slam earning, convert price money to CAD. Add together the price money won. \n",
    "- Identify in which year Djokovic made his highest earnings."
   ]
  },
  {
   "cell_type": "markdown",
   "metadata": {},
   "source": [
    "---"
   ]
  },
  {
   "cell_type": "markdown",
   "metadata": {},
   "source": [
    "### Import Libraries "
   ]
  },
  {
   "cell_type": "code",
   "execution_count": 155,
   "metadata": {},
   "outputs": [],
   "source": [
    "# Import necessary libraries \n",
    "import pandas as pd\n",
    "import numpy as np\n",
    "import matplotlib.pyplot as plt"
   ]
  },
  {
   "cell_type": "markdown",
   "metadata": {},
   "source": [
    "### Import and Explore Data \n",
    "\n",
    "- Import dataset and assign to a variable named `winners`\n",
    "- Print/output the following (as pythonically as possible) \n",
    "    - Dataframe's shape \n",
    "    - Column names \n",
    "    - First 5 rows "
   ]
  },
  {
   "cell_type": "code",
   "execution_count": 156,
   "metadata": {},
   "outputs": [],
   "source": [
    "# Import data from csv file \n",
    "winners = pd.read_csv('Mens_Tennis_Grand_Slam_Winner.csv')"
   ]
  },
  {
   "cell_type": "code",
   "execution_count": 157,
   "metadata": {},
   "outputs": [
    {
     "data": {
      "text/plain": [
       "(292, 10)"
      ]
     },
     "execution_count": 157,
     "metadata": {},
     "output_type": "execute_result"
    }
   ],
   "source": [
    "# df shape \n",
    "winners.shape"
   ]
  },
  {
   "cell_type": "code",
   "execution_count": 158,
   "metadata": {},
   "outputs": [
    {
     "data": {
      "text/plain": [
       "Index(['YEAR', 'TOURNAMENT', 'WINNER', 'RUNNER-UP', 'WINNER_NATIONALITY',\n",
       "       'WINNER_ATP_RANKING', 'RUNNER-UP_ATP_RANKING',\n",
       "       'WINNER_LEFT_OR_RIGHT_HANDED', 'TOURNAMENT_SURFACE', 'WINNER_PRIZE'],\n",
       "      dtype='object')"
      ]
     },
     "execution_count": 158,
     "metadata": {},
     "output_type": "execute_result"
    }
   ],
   "source": [
    "# df columns \n",
    "winners.columns"
   ]
  },
  {
   "cell_type": "code",
   "execution_count": 164,
   "metadata": {},
   "outputs": [
    {
     "data": {
      "text/html": [
       "<div>\n",
       "<style scoped>\n",
       "    .dataframe tbody tr th:only-of-type {\n",
       "        vertical-align: middle;\n",
       "    }\n",
       "\n",
       "    .dataframe tbody tr th {\n",
       "        vertical-align: top;\n",
       "    }\n",
       "\n",
       "    .dataframe thead th {\n",
       "        text-align: right;\n",
       "    }\n",
       "</style>\n",
       "<table border=\"1\" class=\"dataframe\">\n",
       "  <thead>\n",
       "    <tr style=\"text-align: right;\">\n",
       "      <th></th>\n",
       "      <th>YEAR</th>\n",
       "      <th>TOURNAMENT</th>\n",
       "      <th>WINNER</th>\n",
       "      <th>RUNNER-UP</th>\n",
       "      <th>WINNER_NATIONALITY</th>\n",
       "      <th>WINNER_ATP_RANKING</th>\n",
       "      <th>RUNNER-UP_ATP_RANKING</th>\n",
       "      <th>WINNER_LEFT_OR_RIGHT_HANDED</th>\n",
       "      <th>TOURNAMENT_SURFACE</th>\n",
       "      <th>WINNER_PRIZE</th>\n",
       "    </tr>\n",
       "  </thead>\n",
       "  <tbody>\n",
       "    <tr>\n",
       "      <th>0</th>\n",
       "      <td>2023</td>\n",
       "      <td>Australian Open</td>\n",
       "      <td>Novak Djokovic</td>\n",
       "      <td>Stefanos Tsitsipas</td>\n",
       "      <td>Serbian</td>\n",
       "      <td>1.0</td>\n",
       "      <td>3.0</td>\n",
       "      <td>right</td>\n",
       "      <td>Plexicushion Prestige</td>\n",
       "      <td>2050000.0</td>\n",
       "    </tr>\n",
       "    <tr>\n",
       "      <th>1</th>\n",
       "      <td>2022</td>\n",
       "      <td>U.S. Open</td>\n",
       "      <td>Carlos Alcaraz</td>\n",
       "      <td>Casper Rudd</td>\n",
       "      <td>Spanish</td>\n",
       "      <td>2.0</td>\n",
       "      <td>5.0</td>\n",
       "      <td>right</td>\n",
       "      <td>DecoTurf - outdoors</td>\n",
       "      <td>2600000.0</td>\n",
       "    </tr>\n",
       "    <tr>\n",
       "      <th>2</th>\n",
       "      <td>2022</td>\n",
       "      <td>Wimbledon</td>\n",
       "      <td>Novak Djokovic</td>\n",
       "      <td>Nick Kyrgios</td>\n",
       "      <td>Serbian</td>\n",
       "      <td>NaN</td>\n",
       "      <td>25.0</td>\n",
       "      <td>right</td>\n",
       "      <td>Grass / Outdoor</td>\n",
       "      <td>2507460.0</td>\n",
       "    </tr>\n",
       "    <tr>\n",
       "      <th>3</th>\n",
       "      <td>2022</td>\n",
       "      <td>French Open</td>\n",
       "      <td>Rafael Nadal</td>\n",
       "      <td>Casper Rudd</td>\n",
       "      <td>Spanish</td>\n",
       "      <td>5.0</td>\n",
       "      <td>8.0</td>\n",
       "      <td>left</td>\n",
       "      <td>Clay</td>\n",
       "      <td>1870000.0</td>\n",
       "    </tr>\n",
       "    <tr>\n",
       "      <th>4</th>\n",
       "      <td>2022</td>\n",
       "      <td>Australian Open</td>\n",
       "      <td>Rafael Nadal</td>\n",
       "      <td>Daniil Medvedev</td>\n",
       "      <td>Spanish</td>\n",
       "      <td>5.0</td>\n",
       "      <td>2.0</td>\n",
       "      <td>left</td>\n",
       "      <td>Plexicushion Prestige</td>\n",
       "      <td>4400000.0</td>\n",
       "    </tr>\n",
       "  </tbody>\n",
       "</table>\n",
       "</div>"
      ],
      "text/plain": [
       "   YEAR       TOURNAMENT          WINNER           RUNNER-UP  \\\n",
       "0  2023  Australian Open  Novak Djokovic  Stefanos Tsitsipas   \n",
       "1  2022        U.S. Open  Carlos Alcaraz         Casper Rudd   \n",
       "2  2022        Wimbledon  Novak Djokovic        Nick Kyrgios   \n",
       "3  2022      French Open    Rafael Nadal         Casper Rudd   \n",
       "4  2022  Australian Open    Rafael Nadal     Daniil Medvedev   \n",
       "\n",
       "  WINNER_NATIONALITY  WINNER_ATP_RANKING  RUNNER-UP_ATP_RANKING  \\\n",
       "0            Serbian                 1.0                    3.0   \n",
       "1            Spanish                 2.0                    5.0   \n",
       "2            Serbian                 NaN                   25.0   \n",
       "3            Spanish                 5.0                    8.0   \n",
       "4            Spanish                 5.0                    2.0   \n",
       "\n",
       "  WINNER_LEFT_OR_RIGHT_HANDED     TOURNAMENT_SURFACE  WINNER_PRIZE  \n",
       "0                       right  Plexicushion Prestige     2050000.0  \n",
       "1                       right    DecoTurf - outdoors     2600000.0  \n",
       "2                       right        Grass / Outdoor     2507460.0  \n",
       "3                        left                   Clay     1870000.0  \n",
       "4                        left  Plexicushion Prestige     4400000.0  "
      ]
     },
     "execution_count": 164,
     "metadata": {},
     "output_type": "execute_result"
    }
   ],
   "source": [
    "# output first 5 rows \n",
    "winners.head() "
   ]
  },
  {
   "cell_type": "markdown",
   "metadata": {},
   "source": [
    "---"
   ]
  },
  {
   "cell_type": "markdown",
   "metadata": {},
   "source": [
    "##### 1. Proportion of left-handed Grand Slam winners over the years."
   ]
  },
  {
   "cell_type": "code",
   "execution_count": 160,
   "metadata": {},
   "outputs": [
    {
     "name": "stdout",
     "output_type": "stream",
     "text": [
      "The number of left handed winners is: 65 \n",
      "The number of right handed winners is: 227 \n",
      "The total number of winners is: 292\n"
     ]
    }
   ],
   "source": [
    "# Count number of left-handed, right-handed, and total number of winners in 'winner_left_or_right_handed' column. \n",
    "# I use value_counts() to count the number of unique values in a column. This will output a panda series. \n",
    "left_and_right_winners = winners['WINNER_LEFT_OR_RIGHT_HANDED'].value_counts()\n",
    "\n",
    "# index the above series to get the number of left-handed winners\n",
    "left_handed_winners = left_and_right_winners[1]\n",
    "\n",
    "# index the above series to get the number of right-handed winners\n",
    "right_handed_winners = left_and_right_winners[0]\n",
    "\n",
    "# calculate total number of winners\n",
    "total_winners = left_handed_winners + right_handed_winners\n",
    "\n",
    "\n",
    "print('The number of left handed winners is:', left_handed_winners, '\\nThe number of right handed winners is:', right_handed_winners, '\\nThe total number of winners is:', total_winners)"
   ]
  },
  {
   "cell_type": "code",
   "execution_count": 161,
   "metadata": {},
   "outputs": [],
   "source": [
    "# Calculate the proportion of left-handed winners vs right handed winners\n",
    "# I use the round() function to round the proportion to 2 decimal places\n",
    "left_handed_proportion = round(left_handed_winners/total_winners,2)\n",
    "\n",
    "right_handed_proportion = round(right_handed_winners/total_winners,2)\n"
   ]
  },
  {
   "cell_type": "code",
   "execution_count": 207,
   "metadata": {},
   "outputs": [
    {
     "data": {
      "image/png": "[encoded data removed]",
      "text/plain": [
       "<Figure size 432x288 with 1 Axes>"
      ]
     },
     "metadata": {},
     "output_type": "display_data"
    }
   ],
   "source": [
    "# Create a pie chart to visualize the proportion of left-handed winners vs right-handed winners\n",
    "# I use the plt.pie() function to create a pie chart, the plt.legend() function to add a legend to the pie chart and\n",
    "# the plt.show() function to display the pie chart.\n",
    "# Display percentages on the pie chart using the autoptc parameter, and rounding to 2 decimal places. \n",
    "plt.pie([left_handed_proportion, right_handed_proportion], labels = ['Left Handed', 'Right Handed'], autopct = '%.2f%%')\n",
    "plt.legend()\n",
    "plt.show()"
   ]
  },
  {
   "cell_type": "markdown",
   "metadata": {},
   "source": [
    "##### World ranking during Grand Slam win & likelihood of world #1 to win if they made the final."
   ]
  },
  {
   "cell_type": "code",
   "execution_count": 188,
   "metadata": {},
   "outputs": [
    {
     "data": {
      "text/plain": [
       "{1.0: 32, 2.0: 17, 3.0: 5, 4.0: 5, 5.0: 3, 9.0: 1}"
      ]
     },
     "execution_count": 188,
     "metadata": {},
     "output_type": "execute_result"
    }
   ],
   "source": [
    "# Count number of Grand Slam Winners who had a world ranking of #1. Do the same for each world ranking available in the winners column. \n",
    "# NOTE: rankings are only available past the year of 2006, hence the low number of total rankings. \n",
    "# I use value_counts() to count the number of unique values in a column. This will output a panda series.\n",
    "winners_rankings = winners['WINNER_ATP_RANKING'].value_counts()\n",
    "\n",
    "# Create a dictionary of the available winners' rankings and their corresponding number of winners. \n",
    "winners_rankings.to_dict()"
   ]
  },
  {
   "cell_type": "code",
   "execution_count": 167,
   "metadata": {},
   "outputs": [
    {
     "data": {
      "image/png": "[encoded data removed]",
      "text/plain": [
       "<Figure size 432x288 with 1 Axes>"
      ]
     },
     "metadata": {
      "needs_background": "light"
     },
     "output_type": "display_data"
    }
   ],
   "source": [
    "# Create a bar plot to visualize this data.\n",
    "# I use the plt.bar() function to create a bar plot. \n",
    "plt.bar(winners_rankings.keys(), winners_rankings.values)\n",
    "\n",
    "# Label all bins to each corresponding ATP ranking.\n",
    "# I use the plt.xticks() function to label each bin.\n",
    "plt.xticks(winners_rankings.keys())\n",
    "\n",
    "# I use the plt.xlabel() function to add a label to the x-axis and the plt.ylabel() function to add a label to the y-axis.\n",
    "# I use the plt.title() function to add a title to the bar plot.\n",
    "plt.xlabel('ATP Ranking')\n",
    "plt.ylabel('Number of Winners')\n",
    "plt.title('Number of Grand Slam Winners by ATP Ranking')\n",
    "\n",
    "# I use the plt.show() function to display the bar plot.\n",
    "plt.show()"
   ]
  },
  {
   "cell_type": "code",
   "execution_count": 206,
   "metadata": {},
   "outputs": [
    {
     "name": "stdout",
     "output_type": "stream",
     "text": [
      "There were a total number of 13 runner ups with a ranking of #1.\n",
      "There were a total number of 45 players with a ranking of #1 present in the finals.\n"
     ]
    }
   ],
   "source": [
    "# Count number of runner-ups with rank #1 and total number of #1 present in finals.\n",
    "# Count the number of runner ups with RUNNER-UP_ATP_RANKING = 1. \n",
    "# Use a for loop to iterate through the RUNNER-UP_ATP_RANKING column and an if statement to check if the runner up's ranking is equal to 1.\n",
    "# If the runner up's ranking is equal to 1, add 1 to the counter variable.\n",
    "runner_ups_rank_1 = 0\n",
    "\n",
    "for i in winners['RUNNER-UP_ATP_RANKING']:\n",
    "    if i == 1:\n",
    "        runner_ups_rank_1 += 1\n",
    "\n",
    "print('There were a total number of', runner_ups_rank_1, 'runner ups with a ranking of #1.')\n",
    "\n",
    "# Sum the number of times a player with a ranking of #1 was present in the finals.\n",
    "total_rank1_in_finals = runner_ups_rank_1 + winners_rankings[1.0]\n",
    "\n",
    "print('There were a total number of', total_rank1_in_finals, 'players with a ranking of #1 present in the finals.')"
   ]
  },
  {
   "cell_type": "code",
   "execution_count": 169,
   "metadata": {},
   "outputs": [
    {
     "name": "stdout",
     "output_type": "stream",
     "text": [
      "The probability that a #1 ranked player will win the Grand Slam if they make it to the finals is: 71.11 %.\n"
     ]
    }
   ],
   "source": [
    "# Calculate the probability that a #1 ranked player will win the Grand Slam if they make it to the finals.\n",
    "# Use statistical analysis to do this. \n",
    "# The probability of an event is equal to the number of times the event occurs divided by the total number of possible outcomes.\n",
    "# The event is a #1 ranked player winning the Grand Slam if they make it to the finals.\n",
    "# The total number of possible outcomes is the number of times a #1 ranked player was present in the finals.\n",
    "winners_rank_1 = total_rank1_in_finals - runner_ups_rank_1\n",
    "\n",
    "probability_rank1_wins = winners_rank_1 / total_rank1_in_finals\n",
    "\n",
    "# Use the round function to round the probability to 2 decimal places.\n",
    "probability_rank1_wins = round(probability_rank1_wins*100, 2)\n",
    "\n",
    "print('The probability that a #1 ranked player will win the Grand Slam if they make it to the finals is:', probability_rank1_wins, '%.')"
   ]
  },
  {
   "cell_type": "markdown",
   "metadata": {},
   "source": [
    "##### Identify Novak Djokovic's total Grand Slam earnings. "
   ]
  },
  {
   "cell_type": "code",
   "execution_count": 205,
   "metadata": {},
   "outputs": [],
   "source": [
    "# Identify every Grand Slam that Djokovic has won (*hint*: there's a lot!) and store this in a new data frame. \n",
    "# I use the .loc() function to index the dataframe.\n",
    "# I use the .str.contains() function to identify every Grand Slam that Djokovic has won.\n",
    "# I store this data in a new dataframe called djokovic_wins and set the index to the YEAR column.\n",
    "djokovic_wins = winners.loc[winners['WINNER'].str.contains('Djokovic')]\n",
    "\n",
    "djokovic_wins.set_index('YEAR', inplace = True)\n"
   ]
  },
  {
   "cell_type": "code",
   "execution_count": 174,
   "metadata": {},
   "outputs": [
    {
     "data": {
      "text/html": [
       "<div>\n",
       "<style scoped>\n",
       "    .dataframe tbody tr th:only-of-type {\n",
       "        vertical-align: middle;\n",
       "    }\n",
       "\n",
       "    .dataframe tbody tr th {\n",
       "        vertical-align: top;\n",
       "    }\n",
       "\n",
       "    .dataframe thead th {\n",
       "        text-align: right;\n",
       "    }\n",
       "</style>\n",
       "<table border=\"1\" class=\"dataframe\">\n",
       "  <thead>\n",
       "    <tr style=\"text-align: right;\">\n",
       "      <th></th>\n",
       "      <th>TOURNAMENT</th>\n",
       "      <th>WINNER_PRIZE</th>\n",
       "    </tr>\n",
       "    <tr>\n",
       "      <th>YEAR</th>\n",
       "      <th></th>\n",
       "      <th></th>\n",
       "    </tr>\n",
       "  </thead>\n",
       "  <tbody>\n",
       "    <tr>\n",
       "      <th>2023</th>\n",
       "      <td>Australian Open</td>\n",
       "      <td>2050000.0</td>\n",
       "    </tr>\n",
       "    <tr>\n",
       "      <th>2022</th>\n",
       "      <td>Wimbledon</td>\n",
       "      <td>2507460.0</td>\n",
       "    </tr>\n",
       "    <tr>\n",
       "      <th>2021</th>\n",
       "      <td>Wimbledon</td>\n",
       "      <td>1700000.0</td>\n",
       "    </tr>\n",
       "    <tr>\n",
       "      <th>2021</th>\n",
       "      <td>French Open</td>\n",
       "      <td>1400000.0</td>\n",
       "    </tr>\n",
       "    <tr>\n",
       "      <th>2021</th>\n",
       "      <td>Australian Open</td>\n",
       "      <td>2875000.0</td>\n",
       "    </tr>\n",
       "  </tbody>\n",
       "</table>\n",
       "</div>"
      ],
      "text/plain": [
       "           TOURNAMENT  WINNER_PRIZE\n",
       "YEAR                               \n",
       "2023  Australian Open     2050000.0\n",
       "2022        Wimbledon     2507460.0\n",
       "2021        Wimbledon     1700000.0\n",
       "2021      French Open     1400000.0\n",
       "2021  Australian Open     2875000.0"
      ]
     },
     "execution_count": 174,
     "metadata": {},
     "output_type": "execute_result"
    }
   ],
   "source": [
    "# Of this dataframe, retain only the columns containing the tournament and the price money won.\n",
    "# I use the .loc() function to index the dataframe.\n",
    "djokovic_wins = djokovic_wins.loc[:, ['TOURNAMENT', 'WINNER_PRIZE']]\n",
    "\n",
    "djokovic_wins.head()"
   ]
  },
  {
   "cell_type": "code",
   "execution_count": 189,
   "metadata": {},
   "outputs": [
    {
     "name": "stdout",
     "output_type": "stream",
     "text": [
      "Djokovic has won a total of $ 46799440 CAD in Grand Slam prize money.\n"
     ]
    },
    {
     "name": "stderr",
     "output_type": "stream",
     "text": [
      "/var/folders/tt/rlj2czv54n51nmm7h3llcz2h0000gn/T/ipykernel_97229/3443024850.py:5: SettingWithCopyWarning: \n",
      "A value is trying to be set on a copy of a slice from a DataFrame.\n",
      "Try using .loc[row_indexer,col_indexer] = value instead\n",
      "\n",
      "See the caveats in the documentation: https://pandas.pydata.org/pandas-docs/stable/user_guide/indexing.html#returning-a-view-versus-a-copy\n",
      "  djokovic_wins['WINNER_PRIZE_CAD'] = 0\n",
      "/var/folders/tt/rlj2czv54n51nmm7h3llcz2h0000gn/T/ipykernel_97229/3443024850.py:26: SettingWithCopyWarning: \n",
      "A value is trying to be set on a copy of a slice from a DataFrame.\n",
      "Try using .loc[row_indexer,col_indexer] = value instead\n",
      "\n",
      "See the caveats in the documentation: https://pandas.pydata.org/pandas-docs/stable/user_guide/indexing.html#returning-a-view-versus-a-copy\n",
      "  djokovic_wins['WINNER_PRIZE_CAD'] = djokovic_wins['WINNER_PRIZE'] * 0.87\n"
     ]
    }
   ],
   "source": [
    "# For each Grand Slam earning, convert price money to CAD. Add together the price money won. \n",
    "# Loop through the dataframe and identify what currency of the price money based on the tournament.\n",
    "\n",
    "# Create a new column called 'WINNER_PRIZE_CAD' and set its values equal to 0.\n",
    "djokovic_wins['WINNER_PRIZE_CAD'] = 0\n",
    "\n",
    "# Create a for loop to iterate through the dataframe.\n",
    "# Use an if statement to check the currency of the price money based on the tournament.\n",
    "# NOTE: the conversion rates are based on the current exchange rate. \n",
    "# If the currency is USD, multiply the price money by 1.37 to convert to CAD.\n",
    "# If the currency is EUR, multiply the price money by 1.45 to convert to CAD.\n",
    "# If the currency is GBP, multiply the price money by 1.67 to convert to CAD.\n",
    "# If the currency is AUD, multiply the price money by 0.87 to convert to CAD.\n",
    "\n",
    "for i in djokovic_wins['WINNER_PRIZE']:\n",
    "    if i == 'U.S. OPEN':\n",
    "        djokovic_wins['WINNER_PRIZE_CAD'] = djokovic_wins['WINNER_PRIZE'] * 1.37\n",
    "\n",
    "    if i == 'French Open': \n",
    "        djokovic_wins['WINNER_PRIZE_CAD'] = djokovic_wins['WINNER_PRIZE'] * 1.45\n",
    "    \n",
    "    if i == 'Wimbledon':\n",
    "        djokovic_wins['WINNER_PRIZE_CAD'] = djokovic_wins['WINNER_PRIZE'] * 1.67\n",
    "\n",
    "    else: \n",
    "        djokovic_wins['WINNER_PRIZE_CAD'] = djokovic_wins['WINNER_PRIZE'] * 0.87\n",
    "\n",
    "# Add together the price money won in CAD. \n",
    "# I use the .sum() function to add together the price money won in CAD.\n",
    "djokovic_total_winnings_CAD = djokovic_wins['WINNER_PRIZE_CAD'].sum()\n",
    "\n",
    "# print the value as an integer in a statement. \n",
    "print('Djokovic has won a total of $', int(djokovic_total_winnings_CAD), 'CAD in Grand Slam prize money.')"
   ]
  },
  {
   "cell_type": "code",
   "execution_count": 204,
   "metadata": {},
   "outputs": [
    {
     "data": {
      "image/png": "[encoded data removed]",
      "text/plain": [
       "<Figure size 432x288 with 1 Axes>"
      ]
     },
     "metadata": {
      "needs_background": "light"
     },
     "output_type": "display_data"
    },
    {
     "name": "stdout",
     "output_type": "stream",
     "text": [
      "Djokovic made his highest earnings in the year 2015 , with a total of $ 7203600 CAD.\n"
     ]
    }
   ],
   "source": [
    "# Identify in which year Djokovic made his highest earnings.\n",
    "# Calculate price money won for each year. \n",
    "# I use the .groupby() function to group the dataframe by year.\n",
    "# I use the .sum() function to add together the price money won in CAD for each year.\n",
    "djokovic_wins_by_year = djokovic_wins.groupby('YEAR').sum()\n",
    "\n",
    "# Identify the year in which Djokovic made his highest earnings.\n",
    "# I use the .idxmax() function to identify the year in which Djokovic made his highest earnings.\n",
    "djokovic_highest_earnings = djokovic_wins_by_year['WINNER_PRIZE_CAD'].idxmax()\n",
    "\n",
    "# Visualize the data by creating a red line plot. Point out the year in which Djokovic made his highest earnings with an arrow.\n",
    "# I use the plt.plot() function to create a line plot.\n",
    "# I use the plt.show() function to display the plot.\n",
    "plt.plot(djokovic_wins_by_year['WINNER_PRIZE_CAD'], color= 'red')\n",
    "\n",
    "# Mark the maximum point of the plot with an annotation. \n",
    "plt.annotate('Highest Earnings', xy = (djokovic_highest_earnings, djokovic_wins_by_year['WINNER_PRIZE_CAD'].max()), xytext=(djokovic_highest_earnings, djokovic_wins_by_year['WINNER_PRIZE_CAD'].max()+500000), arrowprops = dict(facecolor = 'black', shrink = 0.05))\n",
    "plt.xlabel('Year')\n",
    "plt.ylabel('Price Money Won (CAD)')\n",
    "plt.show()\n",
    "\n",
    "# print the value as an integer in a statement.\n",
    "print('Djokovic made his highest earnings in the year', int(djokovic_highest_earnings), ', with a total of $', int(djokovic_wins_by_year['WINNER_PRIZE_CAD'].max()), 'CAD.')\n"
   ]
  },
  {
   "cell_type": "markdown",
   "metadata": {},
   "source": [
    "---\n"
   ]
  },
  {
   "cell_type": "markdown",
   "metadata": {},
   "source": [
    "### Conclusions (*what does it all mean?*)"
   ]
  },
  {
   "cell_type": "markdown",
   "metadata": {},
   "source": [
    "We gained three interesing insights from this dataset: \n",
    "- Firstly, we saw that there have been very few left-handed Grand Slam winners throughout the years. In fact, only as little as ***22%*** of Grand Slam Champions were left-handed. Interestingly, this is larger than the proportion of left-handed people in the general population, which is approximately only ***10%***.\n",
    "\n",
    "- Secondly, we saw that the likelihood of the #1 ranked player to win a Grand Slam is fairly high, with a win rate of ***71%*** since 2007. This is represented by the highly skewed bar plot, where the #1 ranked player is the most frequent winner. (*HINT*: If you were to bet on a Grand Slam Final, you should bet on the #1 ranked player! You may thank me later.)\n",
    "\n",
    "- Lastly, we saw that Novak Djokovic has made a total of approximately ***50,000,000*** CAD in Grand Slam earnings. His highest earnings were in the year ***2015***, where he made a total of ***7,203,600*** CAD. Although astounding on its own, this number is shadowed by the fact that he has made a total of ***240,000,000*** CAD in prize money throughout his career (*Note to self:* don't stop playing tennis to go to University...)"
   ]
  }
 ],
 "metadata": {
  "kernelspec": {
   "display_name": "base",
   "language": "python",
   "name": "python3"
  },
  "language_info": {
   "codemirror_mode": {
    "name": "ipython",
    "version": 3
   },
   "file_extension": ".py",
   "mimetype": "text/x-python",
   "name": "python",
   "nbconvert_exporter": "python",
   "pygments_lexer": "ipython3",
   "version": "3.9.7"
  },
  "orig_nbformat": 4
 },
 "nbformat": 4,
 "nbformat_minor": 2
}
